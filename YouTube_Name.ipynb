{
 "cells": [
  {
   "cell_type": "markdown",
   "metadata": {},
   "source": [
    "# Create A YouTube Name"
   ]
  },
  {
   "cell_type": "markdown",
   "metadata": {},
   "source": [
    "## Scrape From Social Blade"
   ]
  },
  {
   "cell_type": "code",
   "execution_count": 1,
   "metadata": {},
   "outputs": [],
   "source": [
    "import requests\n",
    "import pandas as pd\n",
    "from bs4 import BeautifulSoup as bs"
   ]
  },
  {
   "cell_type": "code",
   "execution_count": 2,
   "metadata": {},
   "outputs": [],
   "source": [
    "bad_url = r\"https://socialblade.com/youtube/top/trending/bottom-500-channels-30-days/most-unsubscribed\"\n",
    "good_url = r\"https://socialblade.com/youtube/top/trending/top-500-channels-30-days/most-subscribed\""
   ]
  },
  {
   "cell_type": "code",
   "execution_count": 3,
   "metadata": {},
   "outputs": [],
   "source": [
    "def search_style(div, style_dict):\n",
    "    \"\"\"Search a HTML String for a given style\"\"\"\n",
    "    div_style = div.get_attribute_list(\"style\")[0]\n",
    "    if div_style:\n",
    "        style_pair_list = [[j.strip() for j in i.strip().split(\":\")] for i in div_style.split(\";\") if i.strip()]\n",
    "        c_div_style_dict = {pair[0]:pair[1] for pair in style_pair_list}\n",
    "        for k,v in style_dict.items():\n",
    "            if k not in c_div_style_dict:\n",
    "                return False\n",
    "            if v != c_div_style_dict[k]:\n",
    "                return False\n",
    "        return True\n",
    "    return False"
   ]
  },
  {
   "cell_type": "code",
   "execution_count": 4,
   "metadata": {},
   "outputs": [],
   "source": [
    "def get_details(row):\n",
    "    \"\"\"Pass row of HTML from SocialBlade Table, return Tuple of Name, Subs, Views\"\"\"\n",
    "    name = row.find_all(\"a\")[0].string\n",
    "    stats = [c_div for c_div in row.find_all(\"div\") if search_style(c_div, {\"width\":\"150px\"})]\n",
    "    subs, views = [int(c_stat.text.strip().replace(\",\",\"\").replace(\"--\", \"0\")) for c_stat in stats]\n",
    "    return name, subs, views"
   ]
  },
  {
   "cell_type": "code",
   "execution_count": 5,
   "metadata": {},
   "outputs": [],
   "source": [
    "def get_socialblade(url):\n",
    "    \"\"\"Pass SpcialBlade URL, return pandas DataFrame of data\"\"\"\n",
    "    # TargetStyle is the normal width of the SocialBlade data table\n",
    "    target_style = {\"width\":\"860px\"}\n",
    "    \n",
    "    results = requests.get(url)\n",
    "    content = results.content\n",
    "    soup = bs(content, \"html.parser\")\n",
    "    divs = soup.find_all(\"div\")\n",
    "    rows = [c_div for c_div in divs if search_style(c_div, target_style)][2:]\n",
    "    table_data = [get_details(c_row) for c_row in rows]\n",
    "    return pd.DataFrame(table_data, columns = [\"Name\", \"Subs\", \"Views\"])"
   ]
  },
  {
   "cell_type": "markdown",
   "metadata": {},
   "source": [
    "## Prepare Names for NN"
   ]
  },
  {
   "cell_type": "code",
   "execution_count": 36,
   "metadata": {},
   "outputs": [],
   "source": [
    "import numpy as np"
   ]
  },
  {
   "cell_type": "code",
   "execution_count": 63,
   "metadata": {},
   "outputs": [],
   "source": [
    "def encode(string, valid_chars = None, max_len=36):\n",
    "    \"\"\"Convert a string into a matrix of one-hot encoded character vectors\"\"\"\n",
    "    if not valid_chars:\n",
    "        letters = \"abcdefghijklmnopqrstuvwxyz\"\n",
    "        letters += letters.upper()\n",
    "        special_chars = r\" !@#$%^&*()_+-={}[]:;<,>.?/\\`~'\" + '\"'\n",
    "        numbers = \"\".join([str(i) for i in range(10)])\n",
    "        valid_chars = letters + special_chars + numbers\n",
    "    valid_char_ct = len(valid_chars)\n",
    "    \n",
    "    output = []\n",
    "    for i in string:\n",
    "        c_letter = np.zeros(valid_char_ct)\n",
    "        c_letter[valid_chars.index(i)] = 1\n",
    "        output.append(c_letter)\n",
    "    while len(output)<max_len:\n",
    "        output.append(np.zeros(valid_char_ct))\n",
    "    return np.array(output)"
   ]
  },
  {
   "cell_type": "code",
   "execution_count": 83,
   "metadata": {},
   "outputs": [],
   "source": [
    "def decode(input_matrix, valid_chars = None):\n",
    "    \"\"\"Convert a matrix of one-hot encoded character vectors into a string\"\"\"\n",
    "    if not valid_chars:\n",
    "        letters = \"abcdefghijklmnopqrstuvwxyz\"\n",
    "        letters += letters.upper()\n",
    "        special_chars = r\" !@#$%^&*()_+-={}[]:;<,>.?/\\`~'\" + '\"'\n",
    "        numbers = \"\".join([str(i) for i in range(10)])\n",
    "        valid_chars = letters + special_chars + numbers\n",
    "    output = \"\"\n",
    "    for i in input_matrix:\n",
    "        try:\n",
    "            index = np.where(i==1)[0][0]\n",
    "        except IndexError:\n",
    "            return output\n",
    "        output += valid_chars[index]\n",
    "    return output"
   ]
  },
  {
   "cell_type": "code",
   "execution_count": null,
   "metadata": {},
   "outputs": [],
   "source": []
  }
 ],
 "metadata": {
  "kernelspec": {
   "display_name": "YouTube_Name",
   "language": "python",
   "name": "youtube_name"
  },
  "language_info": {
   "codemirror_mode": {
    "name": "ipython",
    "version": 3
   },
   "file_extension": ".py",
   "mimetype": "text/x-python",
   "name": "python",
   "nbconvert_exporter": "python",
   "pygments_lexer": "ipython3",
   "version": "3.7.2"
  }
 },
 "nbformat": 4,
 "nbformat_minor": 2
}
